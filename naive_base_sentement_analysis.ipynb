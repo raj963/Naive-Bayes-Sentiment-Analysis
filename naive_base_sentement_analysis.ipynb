{
  "nbformat": 4,
  "nbformat_minor": 0,
  "metadata": {
    "colab": {
      "name": "Copy of nive base sentement analysis.ipynb",
      "provenance": []
    },
    "kernelspec": {
      "name": "python3",
      "display_name": "Python 3"
    }
  },
  "cells": [
    {
      "cell_type": "code",
      "metadata": {
        "id": "WituJ35y2t8e",
        "colab_type": "code",
        "colab": {}
      },
      "source": [
        ""
      ],
      "execution_count": 0,
      "outputs": []
    },
    {
      "cell_type": "code",
      "metadata": {
        "id": "FQv-NkGV2zQ5",
        "colab_type": "code",
        "colab": {}
      },
      "source": [
        "import nltk"
      ],
      "execution_count": 0,
      "outputs": []
    },
    {
      "cell_type": "code",
      "metadata": {
        "id": "Lhvh0s4s2zT6",
        "colab_type": "code",
        "colab": {}
      },
      "source": [
        ""
      ],
      "execution_count": 0,
      "outputs": []
    },
    {
      "cell_type": "code",
      "metadata": {
        "id": "NrEeu9Gj2zXM",
        "colab_type": "code",
        "outputId": "61dff0cd-9245-4f4c-f323-53ad01113f01",
        "colab": {
          "base_uri": "https://localhost:8080/",
          "height": 34
        }
      },
      "source": [
        "!ls"
      ],
      "execution_count": 0,
      "outputs": [
        {
          "output_type": "stream",
          "text": [
            "sample_data\n"
          ],
          "name": "stdout"
        }
      ]
    },
    {
      "cell_type": "code",
      "metadata": {
        "id": "gQjMufEQ3Ebx",
        "colab_type": "code",
        "colab": {}
      },
      "source": [
        "positiveReviewsFileName = \"./rt-polarity.pos\"\n",
        "negativeReviewsFileName = \"./rt-polarity.neg\"\n",
        "\n"
      ],
      "execution_count": 0,
      "outputs": []
    },
    {
      "cell_type": "code",
      "metadata": {
        "id": "oThI-hts3Eez",
        "colab_type": "code",
        "colab": {}
      },
      "source": [
        "\n",
        "with open(positiveReviewsFileName,'rb') as f:\n",
        "    positiveReviews = f.readlines()\n",
        "\n"
      ],
      "execution_count": 0,
      "outputs": []
    },
    {
      "cell_type": "code",
      "metadata": {
        "id": "y5dBdGMB3Ejt",
        "colab_type": "code",
        "colab": {}
      },
      "source": [
        "with open(negativeReviewsFileName,'rb') as f:\n",
        "    negativeReviews = f.readlines()"
      ],
      "execution_count": 0,
      "outputs": []
    },
    {
      "cell_type": "code",
      "metadata": {
        "id": "cGjBTl8E3Ena",
        "colab_type": "code",
        "colab": {}
      },
      "source": [
        "testTrainingSplitIndex = 2500\n",
        "\n",
        "testNegativeReviews = negativeReviews[testTrainingSplitIndex+1:]\n",
        "testPositiveReviews = positiveReviews[testTrainingSplitIndex+1:]\n",
        "\n",
        "trainingNegativeReviews = negativeReviews[:testTrainingSplitIndex]\n",
        "trainingPositiveReviews = positiveReviews[:testTrainingSplitIndex]"
      ],
      "execution_count": 0,
      "outputs": []
    },
    {
      "cell_type": "code",
      "metadata": {
        "id": "g9Zjd2zW29e5",
        "colab_type": "code",
        "colab": {}
      },
      "source": [
        "def getTestReviewSentiments(naiveBayesSentimentCalculator):\n",
        "  testNegResults = [naiveBayesSentimentCalculator(review) for review in testNegativeReviews]\n",
        "  testPosResults = [naiveBayesSentimentCalculator(review) for review in testPositiveReviews]\n",
        "  labelToNum = {'positive':1,'negative':-1}\n",
        "  numericNegResults = [labelToNum[x] for x in testNegResults]\n",
        "  numericPosResults = [labelToNum[x] for x in testPosResults]\n",
        "  return {'results-on-positive':numericPosResults, 'results-on-negative':numericNegResults}\n"
      ],
      "execution_count": 0,
      "outputs": []
    },
    {
      "cell_type": "code",
      "metadata": {
        "id": "DLmhpp-_3z3G",
        "colab_type": "code",
        "colab": {}
      },
      "source": [
        "def runDiagnostics(reviewResult):\n",
        "  positiveReviewsResult = reviewResult['results-on-positive']\n",
        "  negativeReviewsResult = reviewResult['results-on-negative']\n",
        "  numTruePositive = sum(x > 0 for x in positiveReviewsResult)\n",
        "  numTrueNegative = sum(x < 0 for x in negativeReviewsResult)\n",
        "  pctTruePositive = float(numTruePositive)/len(positiveReviewsResult)\n",
        "  pctTrueNegative = float(numTrueNegative)/len(negativeReviewsResult)  \n",
        "  totalAccurate = numTruePositive + numTrueNegative\n",
        "  total = len(positiveReviewsResult) + len(negativeReviewsResult)\n",
        "  print( \"Accuracy on positive reviews = \" +\"%.2f\" % (pctTruePositive*100) + \"%\")\n",
        "  print( \"Accurance on negative reviews = \" +\"%.2f\" % (pctTrueNegative*100) + \"%\")\n",
        "  print( \"Overall accuracy = \" + \"%.2f\" % (totalAccurate*100/total) + \"%\")\n"
      ],
      "execution_count": 0,
      "outputs": []
    },
    {
      "cell_type": "code",
      "metadata": {
        "id": "sg4Kx4sC3z8X",
        "colab_type": "code",
        "colab": {}
      },
      "source": [
        "def getTrainingData():\n",
        "  negTaggedTrainingReviewList = [{'review':oneReview.split(),'label':'negative'} for oneReview in trainingNegativeReviews] \n",
        "  posTaggedTrainingReviewList = [{'review':oneReview.split(),'label':'positive'} for oneReview in trainingPositiveReviews] \n",
        "  fullTaggedTrainingData = [item for sublist in [negTaggedTrainingReviewList,posTaggedTrainingReviewList] for item in sublist]\n",
        "  trainingData = [(review['review'],review['label']) for review in fullTaggedTrainingData]\n",
        "  return trainingData\n"
      ],
      "execution_count": 0,
      "outputs": []
    },
    {
      "cell_type": "code",
      "metadata": {
        "id": "qUPw_PuM4f41",
        "colab_type": "code",
        "colab": {}
      },
      "source": [
        "def getVocabulary():\n",
        "  positiveWordList = [word for line in trainingPositiveReviews for word in line.split()]\n",
        "  negativeWordList = [word for line in trainingNegativeReviews for word in line.split()]\n",
        "  allWordList = [item for sublist in [positiveWordList,negativeWordList] for item in sublist]\n",
        "  allWordSet = list(set(allWordList))\n",
        "  vocabulary = allWordSet\n",
        "  return vocabulary"
      ],
      "execution_count": 0,
      "outputs": []
    },
    {
      "cell_type": "code",
      "metadata": {
        "id": "F125ZL0h30CF",
        "colab_type": "code",
        "colab": {}
      },
      "source": [
        "def extract_features(review):\n",
        "  review_words=set(review)\n",
        "  features={}\n",
        "  for word in vocabulary:\n",
        "      features[word]=(word in review_words)\n",
        "  return features \n",
        "\n",
        "\n",
        "def getTrainedNaiveBayesClassifier(extract_features, trainingData):\n",
        "  trainingFeatures=nltk.classify.apply_features(extract_features, trainingData)\n",
        "  trainedNBClassifier=nltk.NaiveBayesClassifier.train(trainingFeatures)\n",
        "  return trainedNBClassifier\n",
        "\n",
        "vocabulary = getVocabulary()\n",
        "trainingData = getTrainingData()\n",
        "trainedNBClassifier = getTrainedNaiveBayesClassifier(extract_features,trainingData)\n",
        "\n"
      ],
      "execution_count": 0,
      "outputs": []
    },
    {
      "cell_type": "code",
      "metadata": {
        "id": "LzTP8FKo4rWT",
        "colab_type": "code",
        "outputId": "80d82a40-5d8d-4724-cc4e-949445df3731",
        "colab": {
          "base_uri": "https://localhost:8080/",
          "height": 67
        }
      },
      "source": [
        "def naiveBayesSentimentCalculator(review):\n",
        "  problemInstance = review.split()\n",
        "  problemFeatures = extract_features(problemInstance)\n",
        "  return trainedNBClassifier.classify(problemFeatures)\n",
        "\n",
        "naiveBayesSentimentCalculator(\"What an awesome movie\")\n",
        "naiveBayesSentimentCalculator(\"What a terrible movie\")\n",
        "\n",
        "runDiagnostics(getTestReviewSentiments(naiveBayesSentimentCalculator))"
      ],
      "execution_count": 0,
      "outputs": [
        {
          "output_type": "stream",
          "text": [
            "Accuracy on positive reviews = 73.39%\n",
            "Accurance on negative reviews = 77.07%\n",
            "Overall accuracy = 75.23%\n"
          ],
          "name": "stdout"
        }
      ]
    },
    {
      "cell_type": "code",
      "metadata": {
        "id": "9GcHmVF_30Fc",
        "colab_type": "code",
        "colab": {}
      },
      "source": [
        ""
      ],
      "execution_count": 0,
      "outputs": []
    },
    {
      "cell_type": "code",
      "metadata": {
        "id": "lSvg_bEI30I6",
        "colab_type": "code",
        "colab": {}
      },
      "source": [
        ""
      ],
      "execution_count": 0,
      "outputs": []
    }
  ]
}